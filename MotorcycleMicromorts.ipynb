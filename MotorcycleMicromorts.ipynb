{
 "cells": [
  {
   "cell_type": "markdown",
   "metadata": {
    "collapsed": true
   },
   "source": [
    "# Motorcycle Mircomorts"
   ]
  },
  {
   "cell_type": "markdown",
   "metadata": {},
   "source": [
    "In this notebook, we'll simulate the motorcycle micromort question. The shape of the numerical answer will give you a hint for what the analytical answer will be. You might be surprised how easy it is, in the end.\n",
    "\n",
    "You can either run this in binder\n",
    "https://mybinder.org/v2/gh/JonasRademacker/JupyterNotebooksForTeachingMath/master?filepath=MotorcycleMicromorts.ipynb , \n",
    "\n",
    "or - much, much better, although a bit hasslesome the first time you set it up - you can run it on your own computer. To do that:\n",
    "\n",
    "1) Download and install anaconda (https://www.anaconda.com/). \n",
    "\n",
    "2) Download this file from github. Do so by clicking on \"Raw\", and then asking your browser to save the file (in Firefox: File -> Save Pages As...)\n",
    "\n",
    "Alternatively, you can download the entire github repository. Open a terminal window. Go to the directory where you want a copy of this github repository to live on your computer. Then execute the command:\n",
    "\n",
    "git clone https://github.com/JonasRademacker/JupyterNotebooksForTeachingMath.git\n",
    "\n",
    "(alternatively, go to https://github.com/JonasRademacker/JupyterNotebooksForTeachingMath and find the green \"Code\" button and take it from there)\n",
    "\n",
    "3) Open a terminal window, go to the directory where this file is, and type: jupyter notebook\n",
    "\n",
    "This file should now open in your browser (again), and you can edit it and execute and save the code.\n",
    "\n",
    "Remember, to excecute each field, do shift+return. Execute the fields in order. If things got messy, go to Kernel and select Restart and Clear all output - and start Shift+Return from the top."
   ]
  },
  {
   "cell_type": "markdown",
   "metadata": {},
   "source": [
    "First import some libraries"
   ]
  },
  {
   "cell_type": "code",
   "execution_count": 1,
   "metadata": {},
   "outputs": [],
   "source": [
    "from math import *\n",
    "import numpy as np\n",
    "import matplotlib.mlab as mlab\n",
    "import matplotlib.pyplot as plt"
   ]
  },
  {
   "cell_type": "markdown",
   "metadata": {},
   "source": [
    "Before we start, let's initialise the random number generator. Change the seed to get different outcomes for (peudo)random numbers used in this sheet."
   ]
  },
  {
   "cell_type": "code",
   "execution_count": 2,
   "metadata": {},
   "outputs": [],
   "source": [
    "np.random.seed(650)"
   ]
  },
  {
   "cell_type": "markdown",
   "metadata": {},
   "source": [
    "Our strategy will be to move through my motorcycle journey in 6 mile steps - each step corresponds to one micromort, i.e. a probability of a fatal accident of $10^{-6}$."
   ]
  },
  {
   "cell_type": "code",
   "execution_count": 3,
   "metadata": {},
   "outputs": [
    {
     "name": "stdout",
     "output_type": "stream",
     "text": [
      "deadly accident after  4029801.0 miles\n"
     ]
    }
   ],
   "source": [
    "def Travel(MaxMiles):\n",
    "    stepsize               = 6.0    \n",
    "    steps                  = int(MaxMiles/stepsize)    \n",
    "    probOfAccidentEachStep = 1.e-6\n",
    "\n",
    "    for i in range(steps):\n",
    "        if np.random.random() < probOfAccidentEachStep: # deadly accident happened in this step\n",
    "            return (i+0.5)*stepsize    # we don't know where in the 6 mile stretch - take the middle.\n",
    "        \n",
    "    return -999                        # return a negative number if motorcyclist survived entire journey.\n",
    "\n",
    "made_it_to_mile = Travel(1.e8)\n",
    "print(\"deadly accident after \", made_it_to_mile, \"miles\")"
   ]
  },
  {
   "cell_type": "markdown",
   "metadata": {},
   "source": [
    "Let's repeat this experiment for multiple clones of myself and see if and when they have a fatal accident. First define some functions:"
   ]
  },
  {
   "cell_type": "code",
   "execution_count": 12,
   "metadata": {},
   "outputs": [],
   "source": [
    "def MultipleTrips(NumMotorCyclists, MaxMiles):\n",
    "    lastMileArray = np.zeros(NumMotorCyclists)\n",
    "    for i in range(NumMotorCyclists):\n",
    "        lastMileArray[i]=Travel(MaxMiles)\n",
    "    return lastMileArray\n",
    "\n",
    "def plotLastMiles(lastMileArray, MaxMiles):\n",
    "    nbins = np.count_nonzero(lastMileArray>0)//50    # this gives on average 50 entries per bin.\n",
    "    # Note: a//b is integer devision, so e.g. 12//5=2, in contrast to a/b, which returns a float, so 12/5=2.4\n",
    "    if nbins < 10: \n",
    "        nbins=10\n",
    "    h=plt.hist(lastMileArray, nbins, range=(0, int(MaxMiles)))\n",
    "    plt.show()"
   ]
  },
  {
   "cell_type": "markdown",
   "metadata": {},
   "source": [
    "Now let's use the above functions to simulate 100 clones going on a 6 million mile m/c journey, and plot the results."
   ]
  },
  {
   "cell_type": "code",
   "execution_count": 13,
   "metadata": {},
   "outputs": [
    {
     "name": "stdout",
     "output_type": "stream",
     "text": [
      "38 of the 100 simulated motorcyling clones, survivived the 6000000.0 miles journey.\n"
     ]
    },
    {
     "data": {
      "image/png": "[encoded data removed]",
      "text/plain": [
       "<Figure size 432x288 with 1 Axes>"
      ]
     },
     "metadata": {
      "needs_background": "light"
     },
     "output_type": "display_data"
    }
   ],
   "source": [
    "NumMC=100\n",
    "MaxM =6.0e6\n",
    "LMArray = MultipleTrips(NumMC, MaxM)\n",
    "print(np.count_nonzero(LMArray<0), \"of the\", NumMC, \"simulated motorcyling clones, survivived the\", MaxM, \"miles journey.\")\n",
    "plotLastMiles(LMArray, MaxM)"
   ]
  },
  {
   "cell_type": "markdown",
   "metadata": {},
   "source": [
    "Note, importantly, that several of my simulated motorcycling clones survive this journey. So the probability of a fatal accident in 6 million miles is not 1 (and for 60 millions miles, it is obviously not 10), even though the sum of micromorts is 1 (or 10). So, something quite literally does not add up.\n",
    "\n",
    "BTW, you will have noticed that this code is painfully slow - and to have a smooth distribution you'd want to change NumMC to something much larger, which will take even longer. Below I provide some faster code, which does exactly the same thing - but it has the disadvantage that this is harder to understand and will be more difficult for you to modify. I'd suggest you first convince yourself that you understand the code above, but then use the code below.\n",
    "\n",
    "Final remark: a 6 million mile journey would take more than 11 years constant riding at an average speed of 60mph, without stopping for food, sleep, ..."
   ]
  },
  {
   "cell_type": "markdown",
   "metadata": {},
   "source": [
    "## Task:\n",
    "Play with the numbers - e.g. increase or decrease the number of miles. And if you have sufficient patience, increase the number of motorcylists."
   ]
  },
  {
   "cell_type": "markdown",
   "metadata": {},
   "source": [
    "## Faster, logically identical (but less intuitive) code:"
   ]
  },
  {
   "cell_type": "code",
   "execution_count": 14,
   "metadata": {},
   "outputs": [
    {
     "name": "stdout",
     "output_type": "stream",
     "text": [
      "deadly accident after  4759143.0 miles\n"
     ]
    }
   ],
   "source": [
    "## the code below does exactly the same as the code above, but much faster.\n",
    "## The price for this improvement is that is that it is a bit counter-intuitive.\n",
    "def FasterTravel(MaxMiles):\n",
    "    stepsize               = 6.0    \n",
    "    steps                  = int(MaxMiles/stepsize)    \n",
    "    probOfAccidentEachStep = 1.e-6\n",
    "\n",
    "    batchsize=1000\n",
    "    for i in range(steps//batchsize + 1):\n",
    "        accidents=np.where(np.random.random(batchsize)< probOfAccidentEachStep)\n",
    "        if len(accidents[0]) > 0:\n",
    "            miles = (i*batchsize + accidents[0][0]+0.5)*stepsize\n",
    "            if miles <= MaxMiles: return miles\n",
    "            \n",
    "    return -999  # return a negative number if motorcyclist survived entire journey.\n",
    "\n",
    "made_it_to_mile = FasterTravel(1.e8)\n",
    "print(\"deadly accident after \", made_it_to_mile, \"miles\")"
   ]
  },
  {
   "cell_type": "code",
   "execution_count": 15,
   "metadata": {},
   "outputs": [],
   "source": [
    "def FasterMultipleTrips(NumMotorCyclists, MaxMiles):\n",
    "    lastMileArray = np.zeros(NumMotorCyclists)\n",
    "    for i in range(NumMotorCyclists):\n",
    "        lastMileArray[i]=FasterTravel(MaxMiles)\n",
    "    return lastMileArray"
   ]
  },
  {
   "cell_type": "code",
   "execution_count": 16,
   "metadata": {},
   "outputs": [
    {
     "name": "stdout",
     "output_type": "stream",
     "text": [
      "9725 of the 10000 simulated motorcycling clones survivived the 150000.0 miles journey.\n"
     ]
    },
    {
     "data": {
      "image/png": "[encoded data removed]",
      "text/plain": [
       "<Figure size 432x288 with 1 Axes>"
      ]
     },
     "metadata": {
      "needs_background": "light"
     },
     "output_type": "display_data"
    },
    {
     "name": "stdout",
     "output_type": "stream",
     "text": [
      "BTW, here (and in general for sufficiently short journeys), you should find that the naive approximation P(deadly accident) = miles/6 * 1/1,000,000 works well.\n",
      "Compare:  0.024999999999999998 , 0.0275\n"
     ]
    }
   ],
   "source": [
    "NumMC=10000\n",
    "MaxM =150e3\n",
    "LMArray = FasterMultipleTrips(NumMC, MaxM)\n",
    "print(np.count_nonzero(LMArray<0), \"of the\"\n",
    "      , NumMC, \"simulated motorcycling clones survivived the\"\n",
    "      , MaxM, \"miles journey.\")\n",
    "plotLastMiles(LMArray, MaxM)\n",
    "print(\"BTW, here (and in general for sufficiently short journeys),\",\n",
    "      \"you should find that the naive approximation P(deadly accident) = miles/6 * 1/1,000,000 works well.\")\n",
    "print(\"Compare: \", MaxM/6*1.e-6, \",\", np.count_nonzero(LMArray>0)/len(LMArray))"
   ]
  },
  {
   "cell_type": "code",
   "execution_count": 17,
   "metadata": {},
   "outputs": [
    {
     "name": "stdout",
     "output_type": "stream",
     "text": [
      "383 of the 1000 simulated motorcycling clones survivived the 6000000.0 miles journey.\n"
     ]
    },
    {
     "data": {
      "image/png": "[encoded data removed]",
      "text/plain": [
       "<Figure size 432x288 with 1 Axes>"
      ]
     },
     "metadata": {
      "needs_background": "light"
     },
     "output_type": "display_data"
    }
   ],
   "source": [
    "NumMC=1000\n",
    "MaxM =6.0e6\n",
    "LMArray = FasterMultipleTrips(NumMC, MaxM)\n",
    "print(np.count_nonzero(LMArray<0), \"of the\"\n",
    "      , NumMC, \"simulated motorcycling clones survivived the\"\n",
    "      , MaxM, \"miles journey.\")\n",
    "plotLastMiles(LMArray, MaxM)"
   ]
  },
  {
   "cell_type": "code",
   "execution_count": 18,
   "metadata": {},
   "outputs": [
    {
     "name": "stdout",
     "output_type": "stream",
     "text": [
      "137 of the 1000 simulated motorcycling clones survivived the 12000000.0 miles journey.\n"
     ]
    },
    {
     "data": {
      "image/png": "[encoded data removed]",
      "text/plain": [
       "<Figure size 432x288 with 1 Axes>"
      ]
     },
     "metadata": {
      "needs_background": "light"
     },
     "output_type": "display_data"
    }
   ],
   "source": [
    "NumMC=1000\n",
    "MaxM =12.0e6\n",
    "LMArray = FasterMultipleTrips(NumMC, MaxM)\n",
    "print(np.count_nonzero(LMArray<0), \"of the\", NumMC\n",
    "      , \"simulated motorcycling clones survivived the\", MaxM\n",
    "      , \"miles journey.\")\n",
    "plotLastMiles(LMArray, MaxM)"
   ]
  },
  {
   "cell_type": "code",
   "execution_count": 19,
   "metadata": {},
   "outputs": [
    {
     "name": "stdout",
     "output_type": "stream",
     "text": [
      "4 of the 40000 simulated motorcycling clones survivived the 60000000.0 miles journey \n",
      "(which, btw, would have taken 114 years at 60mph).\n"
     ]
    },
    {
     "data": {
      "image/png": "[encoded data removed]",
      "text/plain": [
       "<Figure size 432x288 with 1 Axes>"
      ]
     },
     "metadata": {
      "needs_background": "light"
     },
     "output_type": "display_data"
    }
   ],
   "source": [
    "NumMC=40000 # even with the faster code, this will take long to run with 40,000 clones;\n",
    "MaxM =60.0e6\n",
    "LMArray = FasterMultipleTrips(NumMC, MaxM)\n",
    "print(np.count_nonzero(LMArray<0), \"of the\"\n",
    "      , NumMC, \"simulated motorcycling clones survivived the\"\n",
    "      , MaxM, \"miles journey\"\n",
    "      , \"\\n(which, btw, would have taken\", int(MaxM/(60*24*365)), \"years at 60mph).\")\n",
    "plotLastMiles(LMArray, MaxM)"
   ]
  },
  {
   "cell_type": "code",
   "execution_count": null,
   "metadata": {},
   "outputs": [],
   "source": []
  }
 ],
 "metadata": {
  "kernelspec": {
   "display_name": "Python 3",
   "language": "python",
   "name": "python3"
  },
  "language_info": {
   "codemirror_mode": {
    "name": "ipython",
    "version": 3
   },
   "file_extension": ".py",
   "mimetype": "text/x-python",
   "name": "python",
   "nbconvert_exporter": "python",
   "pygments_lexer": "ipython3",
   "version": "3.8.3"
  }
 },
 "nbformat": 4,
 "nbformat_minor": 2
}
