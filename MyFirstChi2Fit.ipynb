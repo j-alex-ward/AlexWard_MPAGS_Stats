{
 "cells": [
  {
   "cell_type": "markdown",
   "metadata": {
    "collapsed": true
   },
   "source": [
    "# A hand-made chi2 fit (incomplete - edit where indicated to make it work)"
   ]
  },
  {
   "cell_type": "markdown",
   "metadata": {},
   "source": [
    "You can view these sheets on github, but to modify them, you'll need to a version of jupyter. How to install it is explained here: http://jupyter.readthedocs.io/en/latest/install.html.\n",
    "If you want to use the functions defined below to generate your own distributions, you need to compile them first. Easiest done by clicking (once have opened this as jupyter notebook): Kernel -> Restart & Run All. (Alternatively, you can use the >| button to click your way through, but you need to start from the beginning to have access to all functions defined on this sheet). Have fun!"
   ]
  },
  {
   "cell_type": "code",
   "execution_count": 1,
   "metadata": {},
   "outputs": [
    {
     "name": "stdout",
     "output_type": "stream",
     "text": [
      "Requirement already satisfied: numpy in /usr/local/Cellar/jupyterlab/3.0.9/libexec/lib/python3.9/site-packages (1.20.1)\n",
      "Requirement already satisfied: matplotlib in /usr/local/Cellar/jupyterlab/3.0.9/libexec/lib/python3.9/site-packages (3.3.4)\n",
      "Requirement already satisfied: pyparsing!=2.0.4,!=2.1.2,!=2.1.6,>=2.0.3 in /usr/local/Cellar/jupyterlab/3.0.9/libexec/lib/python3.9/site-packages (from matplotlib) (2.4.7)\n",
      "Requirement already satisfied: numpy>=1.15 in /usr/local/Cellar/jupyterlab/3.0.9/libexec/lib/python3.9/site-packages (from matplotlib) (1.20.1)\n",
      "Requirement already satisfied: kiwisolver>=1.0.1 in /usr/local/Cellar/jupyterlab/3.0.9/libexec/lib/python3.9/site-packages (from matplotlib) (1.3.1)\n",
      "Requirement already satisfied: cycler>=0.10 in /usr/local/Cellar/jupyterlab/3.0.9/libexec/lib/python3.9/site-packages (from matplotlib) (0.10.0)\n",
      "Requirement already satisfied: python-dateutil>=2.1 in /usr/local/Cellar/jupyterlab/3.0.9/libexec/lib/python3.9/site-packages (from matplotlib) (2.8.1)\n",
      "Requirement already satisfied: pillow>=6.2.0 in /usr/local/Cellar/jupyterlab/3.0.9/libexec/lib/python3.9/site-packages (from matplotlib) (8.1.2)\n",
      "Requirement already satisfied: six in /usr/local/Cellar/jupyterlab/3.0.9/libexec/lib/python3.9/site-packages (from cycler>=0.10->matplotlib) (1.15.0)\n"
     ]
    }
   ],
   "source": [
    "import sys\n",
    "sys.executable\n",
    "sys.path\n",
    "!{sys.executable} -m pip install 'numpy'\n",
    "!{sys.executable} -m pip install 'matplotlib'"
   ]
  },
  {
   "cell_type": "markdown",
   "metadata": {},
   "source": [
    "Let's generate a few distributions and calculate the mean, mode, median for each.\n",
    "Start by importing the relevant libraries"
   ]
  },
  {
   "cell_type": "code",
   "execution_count": 2,
   "metadata": {},
   "outputs": [],
   "source": [
    "from math import *\n",
    "import numpy as np\n",
    "import matplotlib.mlab as mlab\n",
    "import matplotlib.pyplot as plt"
   ]
  },
  {
   "cell_type": "markdown",
   "metadata": {},
   "source": [
    "Let's generate a distribution we want to fit. We take an exponential"
   ]
  },
  {
   "cell_type": "code",
   "execution_count": 3,
   "metadata": {},
   "outputs": [],
   "source": [
    "def generateExpo(tau=1, Nevents=10000, randomSeed=-1):\n",
    "    if randomSeed >=0: np.random.seed(randomSeed)\n",
    "    expoSample = np.random.exponential(scale = tau, size=Nevents)\n",
    "    return expoSample"
   ]
  },
  {
   "cell_type": "code",
   "execution_count": 4,
   "metadata": {},
   "outputs": [
    {
     "data": {
      "image/png": "[encoded data removed]",
      "text/plain": [
       "<Figure size 432x288 with 1 Axes>"
      ]
     },
     "metadata": {
      "needs_background": "light"
     },
     "output_type": "display_data"
    }
   ],
   "source": [
    "Nevents=1000\n",
    "Nbins=30\n",
    "histoRange=(0,4)\n",
    "expoSample = generateExpo(1.5, Nevents)\n",
    "timeHisto=plt.hist(expoSample, Nbins, histoRange) # make histogram\n",
    "plt.show()"
   ]
  },
  {
   "cell_type": "markdown",
   "metadata": {},
   "source": [
    "Define the theoretical distribution"
   ]
  },
  {
   "cell_type": "code",
   "execution_count": 5,
   "metadata": {},
   "outputs": [],
   "source": [
    "def expo(t, tau):\n",
    "    return np.exp(-t/tau)/tau\n",
    "def expoIntegral(t, tau, integRange=(0.0, -999.9)):\n",
    "    lower=np.exp(-integRange[0]/tau)\n",
    "    upper=0\n",
    "    if integRange[1] > -999.8: upper = np.exp(-integRange[1]/tau)\n",
    "    return lower-upper\n",
    "def expoNorm(t, tau, integRange):\n",
    "    return expo(t, tau)/expoIntegral(t, tau, integRange)"
   ]
  },
  {
   "cell_type": "markdown",
   "metadata": {},
   "source": [
    "We could continue with these  functions, but it turns out to be more convenient to cast them into a class. The reason is that it allows us to write routines like draw(), below, that will plot any function, no matter how many parameters, as long as the class has the __call__ and the mini, maxi routines defined."
   ]
  },
  {
   "cell_type": "code",
   "execution_count": 6,
   "metadata": {},
   "outputs": [],
   "source": [
    "class expoClass:\n",
    "    def __init__(self, tau=1.5, funcRange=(0.0, 100)):\n",
    "        self._tau=tau\n",
    "        self._range=funcRange\n",
    "    def setTau(self,tau):\n",
    "        self._tau=tau\n",
    "    def interval(self):\n",
    "        return self._range\n",
    "    def mini(self):\n",
    "        return self._range[0]\n",
    "    def maxi(self):\n",
    "        return self._range[1]\n",
    "    def range(self):\n",
    "        return self._range\n",
    "    def __call__(self, t):\n",
    "        #return expo(t, self._tau)\n",
    "        return expoNorm(t, self._tau, self._range)"
   ]
  },
  {
   "cell_type": "markdown",
   "metadata": {},
   "source": [
    "...let's create an instance of our expoClass:"
   ]
  },
  {
   "cell_type": "code",
   "execution_count": 7,
   "metadata": {},
   "outputs": [],
   "source": [
    "timeFct = expoClass(1.6, (0, 4))  \n",
    "# timeFct is now defined such that timeFct(t) will call whetever is in \n",
    "# the __call__ routine of expoClass, currently return expo(t, self._tau)"
   ]
  },
  {
   "cell_type": "markdown",
   "metadata": {},
   "source": [
    "... and draw it:"
   ]
  },
  {
   "cell_type": "code",
   "execution_count": 8,
   "metadata": {},
   "outputs": [
    {
     "data": {
      "image/png": "[encoded data removed]",
      "text/plain": [
       "<Figure size 432x288 with 1 Axes>"
      ]
     },
     "metadata": {
      "needs_background": "light"
     },
     "output_type": "display_data"
    }
   ],
   "source": [
    "def draw(somethingLikeExpoClass, scale=1, numPoints=1000):\n",
    "    mini=somethingLikeExpoClass.mini()\n",
    "    maxi=somethingLikeExpoClass.maxi()\n",
    "    tArray=np.arange(mini, maxi, (maxi-mini)/numPoints)\n",
    "    plt.plot(tArray,scale*somethingLikeExpoClass(tArray))\n",
    "\n",
    "draw(timeFct)"
   ]
  },
  {
   "cell_type": "markdown",
   "metadata": {},
   "source": [
    "Now we define a function that calculates the chi2 between the histogram and the theoretical distribution\n",
    "# edit the function below to calculate the chi-squared"
   ]
  },
  {
   "cell_type": "code",
   "execution_count": 9,
   "metadata": {},
   "outputs": [],
   "source": [
    "def chi2(h, functionClass):\n",
    "    ## Note that the theoretical function is normalised to one. \n",
    "    ## To get the expected number of events, we \n",
    "    ## will need the total number of events, and the binwidth.\n",
    "    N=fsum(h[0])\n",
    "    chi2sum=0\n",
    "    for Nbin, bin_low, bin_up in zip(h[0], h[1], h[1][1:]):\n",
    "        binCentre=0.5*(bin_low + bin_up)\n",
    "        binWidth= bin_up - bin_low\n",
    "        theory=N*binWidth*functionClass(binCentre) # <<<< uncomment this line and make sure you understand it\n",
    "        #print(theory)\n",
    "        measured=Nbin\n",
    "        error_squared=theory # <<<<<<<<<<<<<<<<<<<<<<< uncomment and complete this line\n",
    "        chi2sum +=  (( theory-measured) **2) / (error_squared)   # <<<<<<<<<<<<<<<<<<<<<<< uncomment and complete this line\n",
    "    #return np.random.rand()*functionClass(binCentre) + 1 # <<<<<<<<<<<<<<<<<<<<<<< remove this line!!!!\n",
    "    return chi2sum      # <<<<<<<<<<<<<<<<<<<<<<< uncomment this line\n",
    "        "
   ]
  },
  {
   "cell_type": "markdown",
   "metadata": {},
   "source": [
    "Now we have all the ingredients to calculate the chi2. Let's do it:"
   ]
  },
  {
   "cell_type": "code",
   "execution_count": 10,
   "metadata": {},
   "outputs": [
    {
     "data": {
      "text/plain": [
       "24.625868524566158"
      ]
     },
     "execution_count": 10,
     "metadata": {},
     "output_type": "execute_result"
    }
   ],
   "source": [
    "chi2(timeHisto,timeFct)"
   ]
  },
  {
   "cell_type": "markdown",
   "metadata": {},
   "source": [
    "Let's try different values of tau"
   ]
  },
  {
   "cell_type": "code",
   "execution_count": 11,
   "metadata": {},
   "outputs": [
    {
     "name": "stdout",
     "output_type": "stream",
     "text": [
      "145.68189296054334\n",
      "23.861136254527764\n",
      "47.12412230097381\n"
     ]
    }
   ],
   "source": [
    "timeFct.setTau(1)\n",
    "print(chi2(timeHisto, timeFct))\n",
    "timeFct.setTau(1.5)\n",
    "print(chi2(timeHisto, timeFct))\n",
    "timeFct.setTau(2)\n",
    "print(chi2(timeHisto, timeFct))"
   ]
  },
  {
   "cell_type": "markdown",
   "metadata": {},
   "source": [
    "That was informative, as it suggests the fit value is somewhere between 1 and 2. But we need to make this a bit more systematic:"
   ]
  },
  {
   "cell_type": "code",
   "execution_count": 12,
   "metadata": {},
   "outputs": [
    {
     "name": "stdout",
     "output_type": "stream",
     "text": [
      "min at  1.5259999999999752  +  0.07874999999999122  -  0.07174999999999199 \n",
      "with chi2 at min of  23.739147251685402\n"
     ]
    },
    {
     "data": {
      "image/png": "[encoded data removed]",
      "text/plain": [
       "<Figure size 432x288 with 1 Axes>"
      ]
     },
     "metadata": {
      "needs_background": "light"
     },
     "output_type": "display_data"
    }
   ],
   "source": [
    "class Chi2Scan:\n",
    "    def __init__(self, h, fcn):\n",
    "        self._h = h\n",
    "        self._fcn =fcn\n",
    "        self._tArray=[]\n",
    "        self._chi2Array=[]\n",
    "        self._minChi2=-999.9\n",
    "        self._taumin=-999.9\n",
    "        self._error_low=-999.9\n",
    "        self._error_high=-999.9\n",
    "    def Chi2_of_tau(self, tau):\n",
    "        self._fcn.setTau(tau)\n",
    "        return chi2(self._h, self._fcn)\n",
    "\n",
    "    def scan(self, interval, numsteps):\n",
    "        stepsize = (interval[1]-interval[0])/numsteps\n",
    "        self._tArray=np.arange(interval[0], interval[1], stepsize)\n",
    "        self._chi2Array=self.Chi2_of_tau(self._tArray)\n",
    "        \n",
    "    def plot(self, interval=(0,0), numsteps=0):\n",
    "        if numsteps > 0: # only then re-do scan\n",
    "            self.scan(interval, numsteps)\n",
    "        plt.plot(self._tArray,self._chi2Array)\n",
    "        plt.show\n",
    "        \n",
    "    def findMin(self, interval=(0,0), numsteps=0):\n",
    "        if numsteps > 0: # only then re-do scan\n",
    "            self.scan(interval, numsteps)\n",
    "        self._minChi2=self._chi2Array[0]\n",
    "        self._taumin=self._tArray[0]\n",
    "        for time, chi2 in zip(self._tArray, self._chi2Array):\n",
    "            if chi2 < self._minChi2:\n",
    "                self._minChi2=chi2\n",
    "                self._taumin=time\n",
    "        return self._taumin, self._minChi2\n",
    "    \n",
    "    def findErrors(self, interval=(0,0), numsteps=0):\n",
    "        if numsteps > 0: # only then re-do scan\n",
    "            self.scan(interval, numsteps)\n",
    "            findMin()\n",
    "        shiftedChi2 = self._chi2Array - self._minChi2 - 1\n",
    "        prevChi2=shiftedChi2[0]\n",
    "        prevTime=self._tArray[0]\n",
    "        for time, chi2 in zip(self._tArray, shiftedChi2):\n",
    "            if prevChi2*chi2 < 0:\n",
    "                if time < self._taumin:\n",
    "                    self._error_low = -(0.5*(time + prevTime)-self._taumin)\n",
    "                if time > self._taumin:\n",
    "                    self._error_high = 0.5*(time + prevTime)-self._taumin\n",
    "            prevChi2=chi2\n",
    "            prevTime=time\n",
    "\n",
    "        return self._error_low, self._error_high\n",
    "\n",
    "TimeChi2Scan=Chi2Scan(timeHisto, timeFct)\n",
    "TimeChi2Scan.scan((1.3,1.8), 1000)   ## <<<<<<<< this scan scans through 1000 points - check if this is enough.\n",
    "taumin, chi2min = TimeChi2Scan.findMin()\n",
    "err_lo, err_hi = TimeChi2Scan.findErrors()\n",
    "TimeChi2Scan.plot()\n",
    "\n",
    "print(\"min at \", taumin, \" + \", err_hi, \" - \", err_lo, \"\\nwith chi2 at min of \", chi2min)\n",
    "\n"
   ]
  },
  {
   "cell_type": "markdown",
   "metadata": {},
   "source": [
    "Let's write a function that can draw the data with the fit superimposed to see if it makes any sense:"
   ]
  },
  {
   "cell_type": "code",
   "execution_count": 13,
   "metadata": {},
   "outputs": [],
   "source": [
    "def drawHistoWithFit(histo, fit):\n",
    "    fig, ax = plt.subplots()\n",
    "    #plt.plot(timeHisto[1][0:-1], timeHisto[0][0:], drawstyle=\"steps-pre\")#, align='edge')\n",
    "    error=np.sqrt(timeHisto[0])\n",
    "    #plt.bar([0,1,2, 9], [9, 10, 11, 90], align='edge')\n",
    "    ax.errorbar(timeHisto[1][0:-1], timeHisto[0][0:],\n",
    "       yerr=error,fmt=\"r+\")\n",
    "    N=fsum(timeHisto[0])\n",
    "    binwidth=timeHisto[1][1]-timeHisto[1][0]\n",
    "    draw(timeFct, scale=N*binwidth)\n",
    "    plt.show()"
   ]
  },
  {
   "cell_type": "markdown",
   "metadata": {},
   "source": [
    "and use it - down't forget to set tau to the fit result:"
   ]
  },
  {
   "cell_type": "code",
   "execution_count": 14,
   "metadata": {},
   "outputs": [
    {
     "data": {
      "image/png": "[encoded data removed]",
      "text/plain": [
       "<Figure size 432x288 with 1 Axes>"
      ]
     },
     "metadata": {
      "needs_background": "light"
     },
     "output_type": "display_data"
    }
   ],
   "source": [
    "timeFct.setTau(taumin)\n",
    "drawHistoWithFit(timeHisto, timeFct)"
   ]
  },
  {
   "cell_type": "markdown",
   "metadata": {},
   "source": [
    "pull study:"
   ]
  },
  {
   "cell_type": "code",
   "execution_count": 15,
   "metadata": {},
   "outputs": [],
   "source": [
    "def pullStudy(func=timeFct, numEvents=1000, numExperiments=100\n",
    "              , trueTau=1.5, scanrange=(0,0), numTimeBins=50):\n",
    "    pull=[]\n",
    "    pullSum=0.0\n",
    "    pullSumSq=0.0\n",
    "    for counter in range(numExperiments):\n",
    "        simulatedData = generateExpo(trueTau, numEvents)\n",
    "        histo=plt.hist(simulatedData, numTimeBins, timeFct.range()) # make histogram\n",
    "        scanner=Chi2Scan(histo, func)\n",
    "        \n",
    "        localScanRange=scanrange\n",
    "        if(scanrange[0] >= scanrange[1]): # if scanrage not set, make one up\n",
    "            scanmin = trueTau - 8*trueTau/sqrt(numEvents)\n",
    "            scanmax = trueTau + 8*trueTau/sqrt(numEvents)\n",
    "            if trueTau - scanmin < 1: scanmin = trueTau-1\n",
    "            if scanmax - trueTau < 1: scanmax = trueTau+1\n",
    "            localScanRange=(scanmin, scanmax)\n",
    "        \n",
    "        scanner.scan(localScanRange, 1000)\n",
    "        taumin, chi2min = scanner.findMin()\n",
    "        err_lo, err_hi = scanner.findErrors()\n",
    "    # note: I'll take the average error, but taking upper and lower into account\n",
    "    # seperately, depending on whether your fit is above or below the true value,\n",
    "    # is more accurate - something you might want to implement.\n",
    "        err = 0.5*(err_lo + err_hi)\n",
    "        thisPull = (taumin-trueTau)/err\n",
    "        pull.append(thisPull)\n",
    "        pullSum += thisPull\n",
    "        pullSumSq += thisPull**2\n",
    "        \n",
    "    mean=pullSum/numExperiments\n",
    "    var=pullSumSq/numExperiments - mean*mean\n",
    "    sigma=np.sqrt(var)\n",
    "    sigma_on_mean=sigma/sqrt(numExperiments)\n",
    "    sigma_on_sigma=sigma/sqrt(2*numExperiments)\n",
    "    print(\"mean pull (should be 0)\", mean, \" +- \", sigma_on_mean)\n",
    "    print(\"sigma pull (should be 1)\", sigma, \" +- \", sigma_on_sigma)\n",
    "    plt.clf()\n",
    "    plt.hist(pull, 20, (-5, 5))\n",
    "    plt.show()"
   ]
  },
  {
   "cell_type": "code",
   "execution_count": 16,
   "metadata": {
    "scrolled": true
   },
   "outputs": [
    {
     "name": "stdout",
     "output_type": "stream",
     "text": [
      "mean pull (should be 0) 0.008857142854305566  +-  0.09971926626029956\n",
      "sigma pull (should be 1) 0.9971926626029957  +-  0.07051216938760471\n"
     ]
    },
    {
     "data": {
      "image/png": "[encoded data removed]",
      "text/plain": [
       "<Figure size 432x288 with 1 Axes>"
      ]
     },
     "metadata": {
      "needs_background": "light"
     },
     "output_type": "display_data"
    }
   ],
   "source": [
    "pullStudy(timeFct, numEvents=100000, numExperiments=100\n",
    "          , trueTau=1.5, scanrange=(0.5, 3), numTimeBins=25) \n",
    "# why might you get a bias in this fit?"
   ]
  },
  {
   "cell_type": "markdown",
   "metadata": {},
   "source": [
    "# With the default settings, you will get a bias in the fit. \n",
    "# Why? How can you reduce it?"
   ]
  },
  {
   "cell_type": "code",
   "execution_count": null,
   "metadata": {},
   "outputs": [],
   "source": []
  }
 ],
 "metadata": {
  "kernelspec": {
   "display_name": "Python 3",
   "language": "python",
   "name": "python3"
  },
  "language_info": {
   "codemirror_mode": {
    "name": "ipython",
    "version": 3
   },
   "file_extension": ".py",
   "mimetype": "text/x-python",
   "name": "python",
   "nbconvert_exporter": "python",
   "pygments_lexer": "ipython3",
   "version": "3.9.2"
  }
 },
 "nbformat": 4,
 "nbformat_minor": 2
}
